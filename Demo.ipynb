{
 "cells": [
  {
   "cell_type": "code",
   "execution_count": 9,
   "id": "88b45529-2496-4a55-a85d-bff4c94aaa05",
   "metadata": {},
   "outputs": [
    {
     "name": "stdout",
     "output_type": "stream",
     "text": [
      "     Team League  Year   RS   RA    W    OBP    SLG     BA  Playoffs  \\\n",
      "0     ARI     NL  2012  734  688   81  0.328  0.418  0.259         0   \n",
      "1     ATL     NL  2012  700  600   94  0.320  0.389  0.247         1   \n",
      "2     BAL     AL  2012  712  705   93  0.311  0.417  0.247         1   \n",
      "3     BOS     AL  2012  734  806   69  0.315  0.415  0.260         0   \n",
      "4     CHC     NL  2012  613  759   61  0.302  0.378  0.240         0   \n",
      "...   ...    ...   ...  ...  ...  ...    ...    ...    ...       ...   \n",
      "1227  PHI     NL  1962  705  759   81  0.330  0.390  0.260         0   \n",
      "1228  PIT     NL  1962  706  626   93  0.321  0.394  0.268         0   \n",
      "1229  SFG     NL  1962  878  690  103  0.341  0.441  0.278         1   \n",
      "1230  STL     NL  1962  774  664   84  0.335  0.394  0.271         0   \n",
      "1231  WSA     AL  1962  599  716   60  0.308  0.373  0.250         0   \n",
      "\n",
      "      RankSeason  RankPlayoffs    G   OOBP   OSLG  \n",
      "0            NaN           NaN  162  0.317  0.415  \n",
      "1            4.0           5.0  162  0.306  0.378  \n",
      "2            5.0           4.0  162  0.315  0.403  \n",
      "3            NaN           NaN  162  0.331  0.428  \n",
      "4            NaN           NaN  162  0.335  0.424  \n",
      "...          ...           ...  ...    ...    ...  \n",
      "1227         NaN           NaN  161    NaN    NaN  \n",
      "1228         NaN           NaN  161    NaN    NaN  \n",
      "1229         1.0           2.0  165    NaN    NaN  \n",
      "1230         NaN           NaN  163    NaN    NaN  \n",
      "1231         NaN           NaN  162    NaN    NaN  \n",
      "\n",
      "[1232 rows x 15 columns]\n"
     ]
    }
   ],
   "source": [
    "import pandas as pd\n",
    "import seaborn as sb\n",
    "df = pd.read_csv(r'C:\\Users\\MINH\\Downloads\\Baseball.csv')\n",
    "print(df)"
   ]
  },
  {
   "cell_type": "code",
   "execution_count": 14,
   "id": "236bb464-ec48-4b47-9f62-b63962ca546a",
   "metadata": {},
   "outputs": [
    {
     "data": {
      "text/plain": [
       "<bound method DataFrame.info of      Team League  Year   RS   RA    W    OBP    SLG     BA  Playoffs  \\\n",
       "0     ARI     NL  2012  734  688   81  0.328  0.418  0.259         0   \n",
       "1     ATL     NL  2012  700  600   94  0.320  0.389  0.247         1   \n",
       "2     BAL     AL  2012  712  705   93  0.311  0.417  0.247         1   \n",
       "3     BOS     AL  2012  734  806   69  0.315  0.415  0.260         0   \n",
       "4     CHC     NL  2012  613  759   61  0.302  0.378  0.240         0   \n",
       "...   ...    ...   ...  ...  ...  ...    ...    ...    ...       ...   \n",
       "1227  PHI     NL  1962  705  759   81  0.330  0.390  0.260         0   \n",
       "1228  PIT     NL  1962  706  626   93  0.321  0.394  0.268         0   \n",
       "1229  SFG     NL  1962  878  690  103  0.341  0.441  0.278         1   \n",
       "1230  STL     NL  1962  774  664   84  0.335  0.394  0.271         0   \n",
       "1231  WSA     AL  1962  599  716   60  0.308  0.373  0.250         0   \n",
       "\n",
       "      RankSeason  RankPlayoffs    G   OOBP   OSLG  \n",
       "0            NaN           NaN  162  0.317  0.415  \n",
       "1            4.0           5.0  162  0.306  0.378  \n",
       "2            5.0           4.0  162  0.315  0.403  \n",
       "3            NaN           NaN  162  0.331  0.428  \n",
       "4            NaN           NaN  162  0.335  0.424  \n",
       "...          ...           ...  ...    ...    ...  \n",
       "1227         NaN           NaN  161    NaN    NaN  \n",
       "1228         NaN           NaN  161    NaN    NaN  \n",
       "1229         1.0           2.0  165    NaN    NaN  \n",
       "1230         NaN           NaN  163    NaN    NaN  \n",
       "1231         NaN           NaN  162    NaN    NaN  \n",
       "\n",
       "[1232 rows x 15 columns]>"
      ]
     },
     "execution_count": 14,
     "metadata": {},
     "output_type": "execute_result"
    }
   ],
   "source": [
    "df.info"
   ]
  },
  {
   "cell_type": "raw",
   "id": "aa659bf9-56fa-4937-a816-577861a3629c",
   "metadata": {},
   "source": [
    "df.describe()"
   ]
  },
  {
   "cell_type": "code",
   "execution_count": 16,
   "id": "9aa00554-1dc7-4106-81eb-2ca26d20b4f2",
   "metadata": {},
   "outputs": [
    {
     "ename": "ModuleNotFoundError",
     "evalue": "No module named 'df'",
     "output_type": "error",
     "traceback": [
      "\u001b[1;31m---------------------------------------------------------------------------\u001b[0m",
      "\u001b[1;31mModuleNotFoundError\u001b[0m                       Traceback (most recent call last)",
      "Cell \u001b[1;32mIn[16], line 1\u001b[0m\n\u001b[1;32m----> 1\u001b[0m \u001b[38;5;28;01mfrom\u001b[39;00m \u001b[38;5;21;01mdf\u001b[39;00m \u001b[38;5;28;01mimport\u001b[39;00m connect\n\u001b[0;32m      2\u001b[0m connection \u001b[38;5;241m=\u001b[39m connect(\u001b[38;5;124m'\u001b[39m\u001b[38;5;124mdatabasename\u001b[39m\u001b[38;5;124m'\u001b[39m, \u001b[38;5;124m'\u001b[39m\u001b[38;5;124musername\u001b[39m\u001b[38;5;124m'\u001b[39m, \u001b[38;5;124m'\u001b[39m\u001b[38;5;124mpwsd\u001b[39m\u001b[38;5;124m'\u001b[39m)\n",
      "\u001b[1;31mModuleNotFoundError\u001b[0m: No module named 'df'"
     ]
    }
   ],
   "source": [
    "from df import connect\n",
    "connection = connect('databasename', 'username', 'pwsd')"
   ]
  }
 ],
 "metadata": {
  "kernelspec": {
   "display_name": "Python 3 (ipykernel)",
   "language": "python",
   "name": "python3"
  },
  "language_info": {
   "codemirror_mode": {
    "name": "ipython",
    "version": 3
   },
   "file_extension": ".py",
   "mimetype": "text/x-python",
   "name": "python",
   "nbconvert_exporter": "python",
   "pygments_lexer": "ipython3",
   "version": "3.10.6"
  }
 },
 "nbformat": 4,
 "nbformat_minor": 5
}
