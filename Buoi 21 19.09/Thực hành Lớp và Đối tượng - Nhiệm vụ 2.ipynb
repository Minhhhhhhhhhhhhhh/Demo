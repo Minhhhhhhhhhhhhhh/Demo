{
 "cells": [
  {
   "cell_type": "code",
   "execution_count": null,
   "id": "1b7705b3",
   "metadata": {},
   "outputs": [],
   "source": [
    "\"\"\"\n",
    "Viết class NhanVien gồm các thuộc tính:\n",
    "+ Tên\n",
    "+ Tuổi\n",
    "+ Địa chỉ\n",
    "+ Tiền lương\n",
    "+ Tổng số giờ làm\n",
    "\n",
    "Và các phương thức:\n",
    "- Phương thức __init__()\n",
    "- print_info() : In ra tất cả các thông tin của nhân viên\n",
    "- tinh_thuong(): Tính toán và trả về số tiền thưởng của nhân viên theo công thức sau:\n",
    "Nếu tổng số giờ làm của nhân viên >=200 thì thưởng = lương * 20%\n",
    "Nếu tổng số giờ làm của nhân viên <200 và >=100 thì thưởng = lương * 10%\n",
    "Nếu tổng số giờ làm của nhân viên <100 thì thưởng = 0\n",
    "\"\"\""
   ]
  },
  {
   "cell_type": "code",
   "execution_count": 4,
   "id": "3cf0f41d",
   "metadata": {},
   "outputs": [
    {
     "name": "stdout",
     "output_type": "stream",
     "text": [
      "Ten: Do Hai Minh\n",
      "Tuoi: 23\n",
      "Dia chi: 123 ABC\n",
      "Tien luong: 10000000\n",
      "Tong so gio lam: 150\n",
      "Tiền thưởng: 1000000.0\n"
     ]
    }
   ],
   "source": [
    "class NhanVien:\n",
    "    def __init__(self, ten, tuoi, dia_chi, tien_luong, tong_so_gio_lam):\n",
    "        self.ten = ten\n",
    "        self.tuoi = tuoi\n",
    "        self.dia_chi = dia_chi\n",
    "        self.tien_luong = tien_luong\n",
    "        self.tong_so_gio_lam = tong_so_gio_lam\n",
    "\n",
    "    def print_info(self):\n",
    "        print(f'Ten: {self.ten}')\n",
    "        print(f'Tuoi: {self.tuoi}')\n",
    "        print(f'Dia chi: {self.dia_chi}')\n",
    "        print(f'Tien luong: {self.tien_luong}')\n",
    "        print(f'Tong so gio lam: {self.tong_so_gio_lam}')\n",
    "\n",
    "    def tinh_thuong(self):\n",
    "        if self.tong_so_gio_lam >= 200:\n",
    "            return self.tien_luong * 0.2\n",
    "        elif self.tong_so_gio_lam >= 100:\n",
    "            return self.tien_luong * 0.1\n",
    "        else:\n",
    "            return 0\n",
    "\n",
    "nhan_vien_1 = NhanVien(\"Do Hai Minh\", 23, \"123 ABC\", 10000000, 150)\n",
    "nhan_vien_1.print_info()\n",
    "print(\"Tiền thưởng:\", nhan_vien_1.tinh_thuong())\n"
   ]
  }
 ],
 "metadata": {
  "kernelspec": {
   "display_name": "Python 3 (ipykernel)",
   "language": "python",
   "name": "python3"
  },
  "language_info": {
   "codemirror_mode": {
    "name": "ipython",
    "version": 3
   },
   "file_extension": ".py",
   "mimetype": "text/x-python",
   "name": "python",
   "nbconvert_exporter": "python",
   "pygments_lexer": "ipython3",
   "version": "3.10.6"
  }
 },
 "nbformat": 4,
 "nbformat_minor": 5
}
